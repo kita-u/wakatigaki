{
 "cells": [
  {
   "cell_type": "code",
   "execution_count": 1,
   "metadata": {},
   "outputs": [
    {
     "data": {
      "text/html": [
       "<input type=\"button\" value=\"(1) まずこのボタンをクリックする\" onclick=\"IPython.notebook.execute_cells_below()\">\n"
      ],
      "text/plain": [
       "<IPython.core.display.HTML object>"
      ]
     },
     "metadata": {},
     "output_type": "display_data"
    }
   ],
   "source": [
    "%%HTML\n",
    "<input type=\"button\" value=\"(1) まずこのボタンをクリックする\" onclick=\"IPython.notebook.execute_cells_below()\">"
   ]
  },
  {
   "cell_type": "code",
   "execution_count": 2,
   "metadata": {},
   "outputs": [],
   "source": [
    "import MeCab\n",
    "import collections\n",
    "from IPython.display import HTML, Javascript, display\n",
    "import numpy as np\n",
    "mecab = MeCab.Tagger(\"-Owakati\")\n",
    "def wakati(tx):\n",
    "    tx1 = tx.replace('\\n','')\n",
    "    words = mecab.parse(tx1).split()\n",
    "    st=\"\\n\".join(list(map(lambda x:str(x[1])+' : '+x[0],collections.Counter(words).most_common())))\n",
    "    return(st)"
   ]
  },
  {
   "cell_type": "code",
   "execution_count": 5,
   "metadata": {
    "scrolled": true
   },
   "outputs": [
    {
     "data": {
      "text/html": [
       "<textarea id=\"tain\" rows=10 cols=60></textarea><br>\n",
       "<input type=\"button\" value=\"(2) 次に上のテキストエリアに日本語の文章を入力して、このボタンをクリックする\" onclick=\"calltest()\"><br>\n",
       "<textarea id=\"taout\" rows=10 cols=60></textarea><br>\n",
       "\n",
       "<script>\n",
       "var kernel = IPython.notebook.kernel;\n",
       "\n",
       "var callback = function(output) {\n",
       "  var res = output.content.data['text/plain'];\n",
       "  document.querySelector(\"#taout\").value = eval(res);\n",
       "};\n",
       "\n",
       "function calltest() {\n",
       "  var x = document.querySelector(\"#tain\").value;\n",
       "  x = x.replace(/\\\"/g,'');\n",
       "  x = x.replace(/\\r?\\n/g,' ');\n",
       "  var command = 'wakati(\"' + x + '\")';\n",
       "  kernel.execute(command, {'iopub': {\"output\": callback}}, {silent:false});\n",
       "}\n",
       "code_show=true; \n",
       "function code_toggle() {\n",
       " if (code_show){\n",
       " $('div.input').hide();\n",
       " } else {\n",
       " $('div.input').show();\n",
       " }\n",
       " code_show = !code_show\n",
       "} \n",
       "$( document ).ready(code_toggle);\n",
       "</script>\n",
       "The raw code for this IPython notebook is by default hidden for easier reading.\n",
       "To toggle on/off the raw code, click <a href=\"javascript:code_toggle()\">here</a>.\n"
      ],
      "text/plain": [
       "<IPython.core.display.HTML object>"
      ]
     },
     "metadata": {},
     "output_type": "display_data"
    }
   ],
   "source": [
    "%%HTML\n",
    "<textarea id=\"tain\" rows=10 cols=60></textarea><br>\n",
    "<input type=\"button\" value=\"(2) 次に上のテキストエリアに日本語の文章を入力して、このボタンをクリックする\" onclick=\"calltest()\"><br>\n",
    "<textarea id=\"taout\" rows=10 cols=60></textarea><br>\n",
    "\n",
    "<script>\n",
    "var kernel = IPython.notebook.kernel;\n",
    "\n",
    "var callback = function(output) {\n",
    "  var res = output.content.data['text/plain'];\n",
    "  document.querySelector(\"#taout\").value = eval(res);\n",
    "};\n",
    "\n",
    "function calltest() {\n",
    "  var x = document.querySelector(\"#tain\").value;\n",
    "  x = x.replace(/\\\"/g,'');\n",
    "  x = x.replace(/\\r?\\n/g,' ');\n",
    "  var command = 'wakati(\"' + x + '\")';\n",
    "  kernel.execute(command, {'iopub': {\"output\": callback}}, {silent:false});\n",
    "}\n",
    "code_show=true; \n",
    "function code_toggle() {\n",
    " if (code_show){\n",
    " $('div.input').hide();\n",
    " } else {\n",
    " $('div.input').show();\n",
    " }\n",
    " code_show = !code_show\n",
    "} \n",
    "$( document ).ready(code_toggle);\n",
    "</script>\n",
    "The raw code for this IPython notebook is by default hidden for easier reading.\n",
    "To toggle on/off the raw code, click <a href=\"javascript:code_toggle()\">here</a>."
   ]
  }
 ],
 "metadata": {
  "kernelspec": {
   "display_name": "Python 3",
   "language": "python",
   "name": "python3"
  },
  "language_info": {
   "codemirror_mode": {
    "name": "ipython",
    "version": 3
   },
   "file_extension": ".py",
   "mimetype": "text/x-python",
   "name": "python",
   "nbconvert_exporter": "python",
   "pygments_lexer": "ipython3",
   "version": "3.8.3"
  }
 },
 "nbformat": 4,
 "nbformat_minor": 4
}
